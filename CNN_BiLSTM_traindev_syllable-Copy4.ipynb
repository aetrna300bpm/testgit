{
 "cells": [
  {
   "cell_type": "code",
   "execution_count": 16,
   "id": "0f3fdeff-6621-43b0-b165-0a12cfa247c9",
   "metadata": {},
   "outputs": [
    {
     "name": "stderr",
     "output_type": "stream",
     "text": [
      "[nltk_data] Downloading package maxent_ne_chunker to\n",
      "[nltk_data]     C:\\Users\\GIGABYTE\\AppData\\Roaming\\nltk_data...\n",
      "[nltk_data]   Package maxent_ne_chunker is already up-to-date!\n",
      "[nltk_data] Downloading package words to\n",
      "[nltk_data]     C:\\Users\\GIGABYTE\\AppData\\Roaming\\nltk_data...\n",
      "[nltk_data]   Package words is already up-to-date!\n"
     ]
    }
   ],
   "source": [
    "from keras.layers import Input, Embedding, Conv1D, LSTM, Dense, Bidirectional, GRU\n",
    "from keras.models import Model, Sequential\n",
    "from keras.preprocessing.text import Tokenizer\n",
    "from keras.preprocessing.sequence import pad_sequences\n",
    "import json\n",
    "import numpy as np\n",
    "import nltk\n",
    "import copy\n",
    "nltk.download('maxent_ne_chunker')\n",
    "nltk.download('words')\n",
    "from nltk import word_tokenize, pos_tag, ne_chunk\n",
    "from nltk.chunk import conlltags2tree, tree2conlltags\n",
    "from sklearn.metrics import classification_report"
   ]
  },
  {
   "cell_type": "code",
   "execution_count": 4,
   "id": "1295f0a9-ec20-47e5-9de6-5baf49ef091c",
   "metadata": {},
   "outputs": [],
   "source": [
    "# Load JSON\n",
    "\n",
    "def load_data_from_json(file_path):\n",
    "    with open(file_path, 'r', encoding='utf-8') as file:\n",
    "        data = [json.loads(line) for line in file]\n",
    "\n",
    "    words = [entry[\"words\"] for entry in data]\n",
    "    tags = [entry[\"tags\"] for entry in data]\n",
    "\n",
    "    return words, tags\n",
    "\n",
    "\n",
    "train_words, train_tags = load_data_from_json('PhoNER_COVID19-main-BIO/PhoNER_COVID19-main/data/syllable/train_syllable.json')\n",
    "dev_words, dev_tags = load_data_from_json('PhoNER_COVID19-main-BIO/PhoNER_COVID19-main/data/syllable/dev_syllable.json')\n",
    "test_words, test_tags = load_data_from_json('PhoNER_COVID19-main-BIO/PhoNER_COVID19-main/data/syllable/test_syllable.json')\n",
    "\n",
    "def merge_data(words1, tags1, words2, tags2):\n",
    "    merged_words = words1 + words2\n",
    "    merged_tags = tags1 + tags2\n",
    "    return merged_words, merged_tags\n",
    "\n",
    "traindev_words, traindev_tags = merge_data(train_words, train_tags, dev_words, dev_tags)\n"
   ]
  },
  {
   "cell_type": "code",
   "execution_count": 5,
   "id": "5ef44e79-4666-4bd0-88bd-3dd80866e826",
   "metadata": {},
   "outputs": [],
   "source": [
    "# Tokenize words\n",
    "tokenizer = Tokenizer()\n",
    "tokenizer.fit_on_texts(traindev_words)\n",
    "\n",
    "# Đổi chữ thành ID\n",
    "traindev_sequences = tokenizer.texts_to_sequences(traindev_words)\n",
    "train_sequences = tokenizer.texts_to_sequences(train_words)\n",
    "dev_sequences = tokenizer.texts_to_sequences(dev_words)\n",
    "test_sequences = tokenizer.texts_to_sequences(test_words)\n",
    "\n",
    "\n",
    "# Đổi tag thành ID\n",
    "tag_to_index = {'O': 0, 'B-AGE': 1, 'B-DATE': 2, 'B-GENDER': 3, 'B-JOB': 4, 'B-LOCATION': 5, 'B-NAME': 6, 'B-ORGANIZATION': 7, 'B-PATIENT_ID': 8, 'B-SYMPTOM_AND_DISEASE': 9, 'B-TRANSPORTATION': 10, 'I-AGE': 11, 'I-DATE': 12, 'I-GENDER': 13, 'I-JOB': 14, 'I-LOCATION': 15, 'I-NAME': 16, 'I-ORGANIZATION': 17, 'I-PATIENT_ID': 18, 'I-SYMPTOM_AND_DISEASE': 19, 'I-TRANSPORTATION': 20}\n",
    "\n",
    "traindev_tags = [[tag_to_index.get(tag) for tag in seq] for seq in traindev_tags]\n",
    "train_tags = [[tag_to_index.get(tag) for tag in seq] for seq in train_tags]\n",
    "dev_tags = [[tag_to_index.get(tag) for tag in seq] for seq in dev_tags]\n",
    "test_tags = [[tag_to_index.get(tag) for tag in seq] for seq in test_tags]"
   ]
  },
  {
   "cell_type": "code",
   "execution_count": 6,
   "id": "064db00c-8a62-4eb5-9bbd-841c60c6de38",
   "metadata": {},
   "outputs": [
    {
     "name": "stdout",
     "output_type": "stream",
     "text": [
      "The ID of '.' is: 4\n"
     ]
    }
   ],
   "source": [
    "# Get the word-to-index mapping\n",
    "word_index = tokenizer.word_index\n",
    "\n",
    "# Print the ID of a specific token\n",
    "token_to_check = '.'\n",
    "token_id = word_index.get(token_to_check)\n",
    "\n",
    "if token_id is not None:\n",
    "    print(f\"The ID of '{token_to_check}' is: {token_id}\")\n",
    "else:\n",
    "    print(f\"{token_to_check} is not in the vocabulary.\")\n",
    "    "
   ]
  },
  {
   "cell_type": "code",
   "execution_count": 7,
   "id": "3eceb815-be16-4d5e-ac7c-95f01f389026",
   "metadata": {},
   "outputs": [],
   "source": [
    "def remove_tokens(data, tags, tokens_to_remove):\n",
    "    new_data = []\n",
    "    new_tags = []\n",
    "    for seq, tag_seq in zip(data, tags):\n",
    "        new_seq = [word for word in seq if word not in tokens_to_remove]\n",
    "        new_tag_seq = [tag for word, tag in zip(seq, tag_seq) if word not in tokens_to_remove]\n",
    "        new_data.append(new_seq)\n",
    "        new_tags.append(new_tag_seq)\n",
    "    return new_data, new_tags\n",
    "\n",
    "tokens_to_remove = [1, 4, 9, 32, 33, 151, 769]\n",
    "\n",
    "# Remove instances of the specified tokens\n",
    "# traindev_sequences, traindev_tags = remove_tokens(traindev_sequences, traindev_tags, tokens_to_remove)\n",
    "# train_sequences, train_tags = remove_tokens(train_sequences, train_tags, tokens_to_remove)\n",
    "# dev_sequences, dev_tags = remove_tokens(dev_sequences, dev_tags, tokens_to_remove)\n",
    "# test_sequences, test_tags = remove_tokens(test_sequences, test_tags, tokens_to_remove)\n"
   ]
  },
  {
   "cell_type": "code",
   "execution_count": 8,
   "id": "8658a46c-15de-46ab-9f47-6bca742d0a5b",
   "metadata": {},
   "outputs": [
    {
     "name": "stdout",
     "output_type": "stream",
     "text": [
      "[165, 144, 1, 2, 7, 32, 195, 312, 54, 48, 693, 342, 156, 253, 69, 2, 40, 5, 30, 76, 522, 455, 47, 80, 41, 42, 4]\n"
     ]
    }
   ],
   "source": [
    "# Print the modified data\n",
    "print(train_sequences[0])"
   ]
  },
  {
   "cell_type": "code",
   "execution_count": 9,
   "id": "679f0ed3-86e4-4589-95b0-3386169de32b",
   "metadata": {},
   "outputs": [],
   "source": [
    "# Pad chuỗi entry theo câu\n",
    "max_seq_len = max_seq_len = 200\n",
    "traindev_data = pad_sequences(traindev_sequences, maxlen=max_seq_len, padding='post', truncating='post')\n",
    "train_data = pad_sequences(dev_sequences, maxlen=max_seq_len, padding='post', truncating='post')\n",
    "dev_data = pad_sequences(dev_sequences, maxlen=max_seq_len, padding='post', truncating='post')\n",
    "test_data = pad_sequences(test_sequences, maxlen=max_seq_len, padding='post', truncating='post')\n",
    "\n",
    "# Pad chuỗi tag theo câu\n",
    "traindev_tags = pad_sequences(traindev_tags, maxlen=max_seq_len, padding='post')\n",
    "train_tags = pad_sequences(train_tags, maxlen=max_seq_len, padding='post')\n",
    "dev_tags = pad_sequences(dev_tags, maxlen=max_seq_len, padding='post')\n",
    "test_tags = pad_sequences(test_tags, maxlen=max_seq_len, padding='post')"
   ]
  },
  {
   "cell_type": "code",
   "execution_count": 10,
   "id": "4eb6801f-017f-4a76-9d9a-3fc02c496bbe",
   "metadata": {},
   "outputs": [
    {
     "name": "stdout",
     "output_type": "stream",
     "text": [
      "[ 155  174  231   26  526    1  226  276   26   93  253  559    1    2\n",
      "    7  190  196    1   44  119    2    3   12   70   16    2    7    6\n",
      "  969    1  343  407 2812  559  454   28   37   99 1197 3511    4    0\n",
      "    0    0    0    0    0    0    0    0    0    0    0    0    0    0\n",
      "    0    0    0    0    0    0    0    0    0    0    0    0    0    0\n",
      "    0    0    0    0    0    0    0    0    0    0    0    0    0    0\n",
      "    0    0    0    0    0    0    0    0    0    0    0    0    0    0\n",
      "    0    0    0    0    0    0    0    0    0    0    0    0    0    0\n",
      "    0    0    0    0    0    0    0    0    0    0    0    0    0    0\n",
      "    0    0    0    0    0    0    0    0    0    0    0    0    0    0\n",
      "    0    0    0    0    0    0    0    0    0    0    0    0    0    0\n",
      "    0    0    0    0    0    0    0    0    0    0    0    0    0    0\n",
      "    0    0    0    0    0    0    0    0    0    0    0    0    0    0\n",
      "    0    0    0    0    0    0    0    0    0    0    0    0    0    0\n",
      "    0    0    0    0]\n"
     ]
    }
   ],
   "source": [
    "print(train_data[0])"
   ]
  },
  {
   "cell_type": "code",
   "execution_count": 11,
   "id": "fea4dfac-8555-41ff-b1c3-fa2a960117cd",
   "metadata": {},
   "outputs": [],
   "source": [
    "# Module load file w2v\n",
    "def load_embeddings(file_path):\n",
    "    embeddings = {}\n",
    "    with open(file_path, 'r', encoding='utf-8') as file:\n",
    "        for line in file:\n",
    "            parts = line.strip().split()\n",
    "            word = parts[0]\n",
    "            vector = list(map(float, parts[-300:])) #  dims vector embedding\n",
    "            embeddings[word] = vector\n",
    "    return embeddings\n",
    "\n",
    "def create_embedding_matrix(tokenizer, embeddings, embedding_dim):\n",
    "    vocab_size = len(tokenizer.word_index) + 1\n",
    "    embedding_matrix = np.zeros((vocab_size, embedding_dim))\n",
    "\n",
    "    for word, i in tokenizer.word_index.items():\n",
    "        embedding_vector = embeddings.get(word)\n",
    "        if embedding_vector is not None:\n",
    "            embedding_matrix[i] = embedding_vector\n",
    "\n",
    "    return embedding_matrix\n",
    "\n",
    "\n",
    "embedding_file_path = 'word2vec_vi_syllables_300dims.txt' # Input path file embedding (.txt)\n",
    "word_embeddings = load_embeddings(embedding_file_path)\n",
    "embedding_dim = 300  # dims vector embedding\n",
    "\n",
    "\n",
    "# Load pre-train embedding\n",
    "embeddings = load_embeddings(embedding_file_path)\n",
    "# Embedding matrix\n",
    "embedding_matrix = create_embedding_matrix(tokenizer, embeddings, embedding_dim)"
   ]
  },
  {
   "cell_type": "code",
   "execution_count": 12,
   "id": "53184d15-d40e-4e97-9564-f7fb72dc8d85",
   "metadata": {},
   "outputs": [
    {
     "name": "stdout",
     "output_type": "stream",
     "text": [
      "[ 100    2    3   18  126  161 1005  482   11   32   56  112   17    2\n",
      "    3   88  354  188    2    3  809   23   66    1   39   29   24    1\n",
      "  847   23   34    1  949   29   24  179  723   23   34    1  370   29\n",
      "   24    1  684   23   66    1  706   29    1   15 2777  170   47    2\n",
      "    3   88  354   24    4    0    0    0    0    0    0    0    0    0\n",
      "    0    0    0    0    0    0    0    0    0    0    0    0    0    0\n",
      "    0    0    0    0    0    0    0    0    0    0    0    0    0    0\n",
      "    0    0    0    0    0    0    0    0    0    0    0    0    0    0\n",
      "    0    0    0    0    0    0    0    0    0    0    0    0    0    0\n",
      "    0    0    0    0    0    0    0    0    0    0    0    0    0    0\n",
      "    0    0    0    0    0    0    0    0    0    0    0    0    0    0\n",
      "    0    0    0    0    0    0    0    0    0    0    0    0    0    0\n",
      "    0    0    0    0    0    0    0    0    0    0    0    0    0    0\n",
      "    0    0    0    0    0    0    0    0    0    0    0    0    0    0\n",
      "    0    0    0    0]\n"
     ]
    }
   ],
   "source": [
    "print(dev_data[42])"
   ]
  },
  {
   "cell_type": "code",
   "execution_count": 13,
   "id": "5d806b04-87b1-40d3-b515-6b2ccb58764a",
   "metadata": {},
   "outputs": [
    {
     "name": "stdout",
     "output_type": "stream",
     "text": [
      "[ 0  0  0  0  5 15 15 15  0  0  0  0  0  0  0  0  8  0  0  0  8  0  3  0\n",
      "  1  0  0  0  8  0  3  0  1  0  0  0  8  0  3  0  1  0  0  0  8  0  3  0\n",
      "  1  0  0  0  0  0  0  0  0  0  8  0  0  0  0  0  0  0  0  0  0  0  0  0\n",
      "  0  0  0  0  0  0  0  0  0  0  0  0  0  0  0  0  0  0  0  0  0  0  0  0\n",
      "  0  0  0  0  0  0  0  0  0  0  0  0  0  0  0  0  0  0  0  0  0  0  0  0\n",
      "  0  0  0  0  0  0  0  0  0  0  0  0  0  0  0  0  0  0  0  0  0  0  0  0\n",
      "  0  0  0  0  0  0  0  0  0  0  0  0  0  0  0  0  0  0  0  0  0  0  0  0\n",
      "  0  0  0  0  0  0  0  0  0  0  0  0  0  0  0  0  0  0  0  0  0  0  0  0\n",
      "  0  0  0  0  0  0  0  0]\n"
     ]
    }
   ],
   "source": [
    "print(dev_tags[42])"
   ]
  },
  {
   "cell_type": "code",
   "execution_count": 21,
   "id": "5e1d55e0-a203-4071-b7ed-f8814f5ebf2a",
   "metadata": {},
   "outputs": [],
   "source": [
    "def prep_data_non_BIO(tags):\n",
    "    tags_copy = copy.deepcopy(tags)\n",
    "    \n",
    "    for seq in range(tags_copy.shape[0]):\n",
    "        for lb in range(tags_copy.shape[1]):\n",
    "            if tags_copy[seq][lb] > 10:\n",
    "                tags_copy[seq][lb] -= 10\n",
    "    \n",
    "    return tags_copy\n",
    "\n",
    "traindev_tags_non_BIO = prep_data_non_BIO(traindev_tags)"
   ]
  },
  {
   "cell_type": "code",
   "execution_count": 27,
   "id": "adc53000-2a72-4c45-a5c3-232b5153485e",
   "metadata": {},
   "outputs": [
    {
     "name": "stdout",
     "output_type": "stream",
     "text": [
      "Model: \"sequential_3\"\n",
      "_________________________________________________________________\n",
      " Layer (type)                Output Shape              Param #   \n",
      "=================================================================\n",
      " embedding_3 (Embedding)     (None, 200, 300)          1219200   \n",
      "                                                                 \n",
      " bidirectional_6 (Bidirecti  (None, 200, 128)          186880    \n",
      " onal)                                                           \n",
      "                                                                 \n",
      " bidirectional_7 (Bidirecti  (None, 200, 128)          74496     \n",
      " onal)                                                           \n",
      "                                                                 \n",
      " dense_3 (Dense)             (None, 200, 21)           2709      \n",
      "                                                                 \n",
      "=================================================================\n",
      "Total params: 1483285 (5.66 MB)\n",
      "Trainable params: 1483285 (5.66 MB)\n",
      "Non-trainable params: 0 (0.00 Byte)\n",
      "_________________________________________________________________\n"
     ]
    }
   ],
   "source": [
    "lstm_units = 64\n",
    "num_classes = 21\n",
    "\n",
    "model = Sequential()\n",
    "model.add(Embedding(input_dim=len(tokenizer.word_index) + 1, output_dim=embedding_dim, weights=[embedding_matrix], input_length=max_seq_len, trainable=True)) # trainable = False\n",
    "model.add(Bidirectional(LSTM(units=lstm_units, return_sequences=True)))  # Bidirectional LSTM\n",
    "model.add(Bidirectional(GRU(units=lstm_units, return_sequences=True)))\n",
    "\n",
    "model.add(Dense(num_classes, activation='softmax'))\n",
    "model.compile(optimizer='adam', loss='sparse_categorical_crossentropy', metrics=['accuracy'])\n",
    "\n",
    "model.summary()"
   ]
  },
  {
   "cell_type": "code",
   "execution_count": 28,
   "id": "a05cb342-3a99-4740-8126-e0ef1ee0ef72",
   "metadata": {},
   "outputs": [],
   "source": [
    "def post_processing(pred, data):\n",
    "    for seq in range(pred.shape[0]):\n",
    "        for label in range(pred.shape[1]):\n",
    "            if label > 0 and label < 199:\n",
    "                if data[seq][label] in tokens_to_remove:\n",
    "                    pred[seq][label] = 0\n",
    "                \n",
    "                if pred[seq][label] == pred[seq][label+1] and pred[seq][label] < 11 and pred[seq][label] > 0:\n",
    "                    pred[seq][label+1] += 10\n",
    "                if pred[seq][label-1] == 0 and pred[seq][label] < 21 and pred[seq][label] > 10:\n",
    "                    pred[seq][label] -= 10\n",
    "                if pred[seq][label+1] == pred[seq][label] - 10 and pred[seq][label] < 21 and pred[seq][label] > 10:\n",
    "                    pred[seq][label+1] = pred[seq][label]\n",
    "                "
   ]
  },
  {
   "cell_type": "code",
   "execution_count": 29,
   "id": "870bee3a-1f2f-45d5-a8bc-2d9f473705e8",
   "metadata": {},
   "outputs": [
    {
     "name": "stdout",
     "output_type": "stream",
     "text": [
      "Epoch 1/10\n",
      "161/220 [====================>.........] - ETA: 17s - loss: 0.3268 - accuracy: 0.9593"
     ]
    },
    {
     "ename": "KeyboardInterrupt",
     "evalue": "",
     "output_type": "error",
     "traceback": [
      "\u001b[1;31m---------------------------------------------------------------------------\u001b[0m",
      "\u001b[1;31mKeyboardInterrupt\u001b[0m                         Traceback (most recent call last)",
      "Cell \u001b[1;32mIn[29], line 1\u001b[0m\n\u001b[1;32m----> 1\u001b[0m \u001b[43mmodel\u001b[49m\u001b[38;5;241;43m.\u001b[39;49m\u001b[43mfit\u001b[49m\u001b[43m(\u001b[49m\u001b[43mtraindev_data\u001b[49m\u001b[43m,\u001b[49m\u001b[43m \u001b[49m\u001b[43mtraindev_tags\u001b[49m\u001b[43m,\u001b[49m\u001b[43m \u001b[49m\u001b[43mepochs\u001b[49m\u001b[38;5;241;43m=\u001b[39;49m\u001b[38;5;241;43m10\u001b[39;49m\u001b[43m,\u001b[49m\u001b[43m \u001b[49m\u001b[43mbatch_size\u001b[49m\u001b[38;5;241;43m=\u001b[39;49m\u001b[38;5;241;43m32\u001b[39;49m\u001b[43m)\u001b[49m\n\u001b[0;32m      4\u001b[0m _, accuracy \u001b[38;5;241m=\u001b[39m model\u001b[38;5;241m.\u001b[39mevaluate(test_data, test_tags)\n\u001b[0;32m      5\u001b[0m \u001b[38;5;28mprint\u001b[39m(\u001b[38;5;124mf\u001b[39m\u001b[38;5;124m'\u001b[39m\u001b[38;5;124mAccuracy: \u001b[39m\u001b[38;5;132;01m{\u001b[39;00maccuracy\u001b[38;5;250m \u001b[39m\u001b[38;5;241m*\u001b[39m\u001b[38;5;250m \u001b[39m\u001b[38;5;241m100\u001b[39m\u001b[38;5;132;01m:\u001b[39;00m\u001b[38;5;124m.2f\u001b[39m\u001b[38;5;132;01m}\u001b[39;00m\u001b[38;5;124m%\u001b[39m\u001b[38;5;124m'\u001b[39m)\n",
      "File \u001b[1;32mC:\\Python311\\Lib\\site-packages\\keras\\src\\utils\\traceback_utils.py:65\u001b[0m, in \u001b[0;36mfilter_traceback.<locals>.error_handler\u001b[1;34m(*args, **kwargs)\u001b[0m\n\u001b[0;32m     63\u001b[0m filtered_tb \u001b[38;5;241m=\u001b[39m \u001b[38;5;28;01mNone\u001b[39;00m\n\u001b[0;32m     64\u001b[0m \u001b[38;5;28;01mtry\u001b[39;00m:\n\u001b[1;32m---> 65\u001b[0m     \u001b[38;5;28;01mreturn\u001b[39;00m \u001b[43mfn\u001b[49m\u001b[43m(\u001b[49m\u001b[38;5;241;43m*\u001b[39;49m\u001b[43margs\u001b[49m\u001b[43m,\u001b[49m\u001b[43m \u001b[49m\u001b[38;5;241;43m*\u001b[39;49m\u001b[38;5;241;43m*\u001b[39;49m\u001b[43mkwargs\u001b[49m\u001b[43m)\u001b[49m\n\u001b[0;32m     66\u001b[0m \u001b[38;5;28;01mexcept\u001b[39;00m \u001b[38;5;167;01mException\u001b[39;00m \u001b[38;5;28;01mas\u001b[39;00m e:\n\u001b[0;32m     67\u001b[0m     filtered_tb \u001b[38;5;241m=\u001b[39m _process_traceback_frames(e\u001b[38;5;241m.\u001b[39m__traceback__)\n",
      "File \u001b[1;32mC:\\Python311\\Lib\\site-packages\\keras\\src\\engine\\training.py:1783\u001b[0m, in \u001b[0;36mModel.fit\u001b[1;34m(self, x, y, batch_size, epochs, verbose, callbacks, validation_split, validation_data, shuffle, class_weight, sample_weight, initial_epoch, steps_per_epoch, validation_steps, validation_batch_size, validation_freq, max_queue_size, workers, use_multiprocessing)\u001b[0m\n\u001b[0;32m   1775\u001b[0m \u001b[38;5;28;01mwith\u001b[39;00m tf\u001b[38;5;241m.\u001b[39mprofiler\u001b[38;5;241m.\u001b[39mexperimental\u001b[38;5;241m.\u001b[39mTrace(\n\u001b[0;32m   1776\u001b[0m     \u001b[38;5;124m\"\u001b[39m\u001b[38;5;124mtrain\u001b[39m\u001b[38;5;124m\"\u001b[39m,\n\u001b[0;32m   1777\u001b[0m     epoch_num\u001b[38;5;241m=\u001b[39mepoch,\n\u001b[1;32m   (...)\u001b[0m\n\u001b[0;32m   1780\u001b[0m     _r\u001b[38;5;241m=\u001b[39m\u001b[38;5;241m1\u001b[39m,\n\u001b[0;32m   1781\u001b[0m ):\n\u001b[0;32m   1782\u001b[0m     callbacks\u001b[38;5;241m.\u001b[39mon_train_batch_begin(step)\n\u001b[1;32m-> 1783\u001b[0m     tmp_logs \u001b[38;5;241m=\u001b[39m \u001b[38;5;28;43mself\u001b[39;49m\u001b[38;5;241;43m.\u001b[39;49m\u001b[43mtrain_function\u001b[49m\u001b[43m(\u001b[49m\u001b[43miterator\u001b[49m\u001b[43m)\u001b[49m\n\u001b[0;32m   1784\u001b[0m     \u001b[38;5;28;01mif\u001b[39;00m data_handler\u001b[38;5;241m.\u001b[39mshould_sync:\n\u001b[0;32m   1785\u001b[0m         context\u001b[38;5;241m.\u001b[39masync_wait()\n",
      "File \u001b[1;32mC:\\Python311\\Lib\\site-packages\\tensorflow\\python\\util\\traceback_utils.py:150\u001b[0m, in \u001b[0;36mfilter_traceback.<locals>.error_handler\u001b[1;34m(*args, **kwargs)\u001b[0m\n\u001b[0;32m    148\u001b[0m filtered_tb \u001b[38;5;241m=\u001b[39m \u001b[38;5;28;01mNone\u001b[39;00m\n\u001b[0;32m    149\u001b[0m \u001b[38;5;28;01mtry\u001b[39;00m:\n\u001b[1;32m--> 150\u001b[0m   \u001b[38;5;28;01mreturn\u001b[39;00m \u001b[43mfn\u001b[49m\u001b[43m(\u001b[49m\u001b[38;5;241;43m*\u001b[39;49m\u001b[43margs\u001b[49m\u001b[43m,\u001b[49m\u001b[43m \u001b[49m\u001b[38;5;241;43m*\u001b[39;49m\u001b[38;5;241;43m*\u001b[39;49m\u001b[43mkwargs\u001b[49m\u001b[43m)\u001b[49m\n\u001b[0;32m    151\u001b[0m \u001b[38;5;28;01mexcept\u001b[39;00m \u001b[38;5;167;01mException\u001b[39;00m \u001b[38;5;28;01mas\u001b[39;00m e:\n\u001b[0;32m    152\u001b[0m   filtered_tb \u001b[38;5;241m=\u001b[39m _process_traceback_frames(e\u001b[38;5;241m.\u001b[39m__traceback__)\n",
      "File \u001b[1;32mC:\\Python311\\Lib\\site-packages\\tensorflow\\python\\eager\\polymorphic_function\\polymorphic_function.py:831\u001b[0m, in \u001b[0;36mFunction.__call__\u001b[1;34m(self, *args, **kwds)\u001b[0m\n\u001b[0;32m    828\u001b[0m compiler \u001b[38;5;241m=\u001b[39m \u001b[38;5;124m\"\u001b[39m\u001b[38;5;124mxla\u001b[39m\u001b[38;5;124m\"\u001b[39m \u001b[38;5;28;01mif\u001b[39;00m \u001b[38;5;28mself\u001b[39m\u001b[38;5;241m.\u001b[39m_jit_compile \u001b[38;5;28;01melse\u001b[39;00m \u001b[38;5;124m\"\u001b[39m\u001b[38;5;124mnonXla\u001b[39m\u001b[38;5;124m\"\u001b[39m\n\u001b[0;32m    830\u001b[0m \u001b[38;5;28;01mwith\u001b[39;00m OptionalXlaContext(\u001b[38;5;28mself\u001b[39m\u001b[38;5;241m.\u001b[39m_jit_compile):\n\u001b[1;32m--> 831\u001b[0m   result \u001b[38;5;241m=\u001b[39m \u001b[38;5;28;43mself\u001b[39;49m\u001b[38;5;241;43m.\u001b[39;49m\u001b[43m_call\u001b[49m\u001b[43m(\u001b[49m\u001b[38;5;241;43m*\u001b[39;49m\u001b[43margs\u001b[49m\u001b[43m,\u001b[49m\u001b[43m \u001b[49m\u001b[38;5;241;43m*\u001b[39;49m\u001b[38;5;241;43m*\u001b[39;49m\u001b[43mkwds\u001b[49m\u001b[43m)\u001b[49m\n\u001b[0;32m    833\u001b[0m new_tracing_count \u001b[38;5;241m=\u001b[39m \u001b[38;5;28mself\u001b[39m\u001b[38;5;241m.\u001b[39mexperimental_get_tracing_count()\n\u001b[0;32m    834\u001b[0m without_tracing \u001b[38;5;241m=\u001b[39m (tracing_count \u001b[38;5;241m==\u001b[39m new_tracing_count)\n",
      "File \u001b[1;32mC:\\Python311\\Lib\\site-packages\\tensorflow\\python\\eager\\polymorphic_function\\polymorphic_function.py:867\u001b[0m, in \u001b[0;36mFunction._call\u001b[1;34m(self, *args, **kwds)\u001b[0m\n\u001b[0;32m    864\u001b[0m   \u001b[38;5;28mself\u001b[39m\u001b[38;5;241m.\u001b[39m_lock\u001b[38;5;241m.\u001b[39mrelease()\n\u001b[0;32m    865\u001b[0m   \u001b[38;5;66;03m# In this case we have created variables on the first call, so we run the\u001b[39;00m\n\u001b[0;32m    866\u001b[0m   \u001b[38;5;66;03m# defunned version which is guaranteed to never create variables.\u001b[39;00m\n\u001b[1;32m--> 867\u001b[0m   \u001b[38;5;28;01mreturn\u001b[39;00m \u001b[43mtracing_compilation\u001b[49m\u001b[38;5;241;43m.\u001b[39;49m\u001b[43mcall_function\u001b[49m\u001b[43m(\u001b[49m\n\u001b[0;32m    868\u001b[0m \u001b[43m      \u001b[49m\u001b[43margs\u001b[49m\u001b[43m,\u001b[49m\u001b[43m \u001b[49m\u001b[43mkwds\u001b[49m\u001b[43m,\u001b[49m\u001b[43m \u001b[49m\u001b[38;5;28;43mself\u001b[39;49m\u001b[38;5;241;43m.\u001b[39;49m\u001b[43m_no_variable_creation_config\u001b[49m\n\u001b[0;32m    869\u001b[0m \u001b[43m  \u001b[49m\u001b[43m)\u001b[49m\n\u001b[0;32m    870\u001b[0m \u001b[38;5;28;01melif\u001b[39;00m \u001b[38;5;28mself\u001b[39m\u001b[38;5;241m.\u001b[39m_variable_creation_config \u001b[38;5;129;01mis\u001b[39;00m \u001b[38;5;129;01mnot\u001b[39;00m \u001b[38;5;28;01mNone\u001b[39;00m:\n\u001b[0;32m    871\u001b[0m   \u001b[38;5;66;03m# Release the lock early so that multiple threads can perform the call\u001b[39;00m\n\u001b[0;32m    872\u001b[0m   \u001b[38;5;66;03m# in parallel.\u001b[39;00m\n\u001b[0;32m    873\u001b[0m   \u001b[38;5;28mself\u001b[39m\u001b[38;5;241m.\u001b[39m_lock\u001b[38;5;241m.\u001b[39mrelease()\n",
      "File \u001b[1;32mC:\\Python311\\Lib\\site-packages\\tensorflow\\python\\eager\\polymorphic_function\\tracing_compilation.py:139\u001b[0m, in \u001b[0;36mcall_function\u001b[1;34m(args, kwargs, tracing_options)\u001b[0m\n\u001b[0;32m    137\u001b[0m bound_args \u001b[38;5;241m=\u001b[39m function\u001b[38;5;241m.\u001b[39mfunction_type\u001b[38;5;241m.\u001b[39mbind(\u001b[38;5;241m*\u001b[39margs, \u001b[38;5;241m*\u001b[39m\u001b[38;5;241m*\u001b[39mkwargs)\n\u001b[0;32m    138\u001b[0m flat_inputs \u001b[38;5;241m=\u001b[39m function\u001b[38;5;241m.\u001b[39mfunction_type\u001b[38;5;241m.\u001b[39munpack_inputs(bound_args)\n\u001b[1;32m--> 139\u001b[0m \u001b[38;5;28;01mreturn\u001b[39;00m \u001b[43mfunction\u001b[49m\u001b[38;5;241;43m.\u001b[39;49m\u001b[43m_call_flat\u001b[49m\u001b[43m(\u001b[49m\u001b[43m  \u001b[49m\u001b[38;5;66;43;03m# pylint: disable=protected-access\u001b[39;49;00m\n\u001b[0;32m    140\u001b[0m \u001b[43m    \u001b[49m\u001b[43mflat_inputs\u001b[49m\u001b[43m,\u001b[49m\u001b[43m \u001b[49m\u001b[43mcaptured_inputs\u001b[49m\u001b[38;5;241;43m=\u001b[39;49m\u001b[43mfunction\u001b[49m\u001b[38;5;241;43m.\u001b[39;49m\u001b[43mcaptured_inputs\u001b[49m\n\u001b[0;32m    141\u001b[0m \u001b[43m\u001b[49m\u001b[43m)\u001b[49m\n",
      "File \u001b[1;32mC:\\Python311\\Lib\\site-packages\\tensorflow\\python\\eager\\polymorphic_function\\concrete_function.py:1264\u001b[0m, in \u001b[0;36mConcreteFunction._call_flat\u001b[1;34m(self, tensor_inputs, captured_inputs)\u001b[0m\n\u001b[0;32m   1260\u001b[0m possible_gradient_type \u001b[38;5;241m=\u001b[39m gradients_util\u001b[38;5;241m.\u001b[39mPossibleTapeGradientTypes(args)\n\u001b[0;32m   1261\u001b[0m \u001b[38;5;28;01mif\u001b[39;00m (possible_gradient_type \u001b[38;5;241m==\u001b[39m gradients_util\u001b[38;5;241m.\u001b[39mPOSSIBLE_GRADIENT_TYPES_NONE\n\u001b[0;32m   1262\u001b[0m     \u001b[38;5;129;01mand\u001b[39;00m executing_eagerly):\n\u001b[0;32m   1263\u001b[0m   \u001b[38;5;66;03m# No tape is watching; skip to running the function.\u001b[39;00m\n\u001b[1;32m-> 1264\u001b[0m   \u001b[38;5;28;01mreturn\u001b[39;00m \u001b[38;5;28;43mself\u001b[39;49m\u001b[38;5;241;43m.\u001b[39;49m\u001b[43m_inference_function\u001b[49m\u001b[38;5;241;43m.\u001b[39;49m\u001b[43mflat_call\u001b[49m\u001b[43m(\u001b[49m\u001b[43margs\u001b[49m\u001b[43m)\u001b[49m\n\u001b[0;32m   1265\u001b[0m forward_backward \u001b[38;5;241m=\u001b[39m \u001b[38;5;28mself\u001b[39m\u001b[38;5;241m.\u001b[39m_select_forward_and_backward_functions(\n\u001b[0;32m   1266\u001b[0m     args,\n\u001b[0;32m   1267\u001b[0m     possible_gradient_type,\n\u001b[0;32m   1268\u001b[0m     executing_eagerly)\n\u001b[0;32m   1269\u001b[0m forward_function, args_with_tangents \u001b[38;5;241m=\u001b[39m forward_backward\u001b[38;5;241m.\u001b[39mforward()\n",
      "File \u001b[1;32mC:\\Python311\\Lib\\site-packages\\tensorflow\\python\\eager\\polymorphic_function\\atomic_function.py:217\u001b[0m, in \u001b[0;36mAtomicFunction.flat_call\u001b[1;34m(self, args)\u001b[0m\n\u001b[0;32m    215\u001b[0m \u001b[38;5;28;01mdef\u001b[39;00m \u001b[38;5;21mflat_call\u001b[39m(\u001b[38;5;28mself\u001b[39m, args: Sequence[core\u001b[38;5;241m.\u001b[39mTensor]) \u001b[38;5;241m-\u001b[39m\u001b[38;5;241m>\u001b[39m Any:\n\u001b[0;32m    216\u001b[0m \u001b[38;5;250m  \u001b[39m\u001b[38;5;124;03m\"\"\"Calls with tensor inputs and returns the structured output.\"\"\"\u001b[39;00m\n\u001b[1;32m--> 217\u001b[0m   flat_outputs \u001b[38;5;241m=\u001b[39m \u001b[38;5;28;43mself\u001b[39;49m\u001b[43m(\u001b[49m\u001b[38;5;241;43m*\u001b[39;49m\u001b[43margs\u001b[49m\u001b[43m)\u001b[49m\n\u001b[0;32m    218\u001b[0m   \u001b[38;5;28;01mreturn\u001b[39;00m \u001b[38;5;28mself\u001b[39m\u001b[38;5;241m.\u001b[39mfunction_type\u001b[38;5;241m.\u001b[39mpack_output(flat_outputs)\n",
      "File \u001b[1;32mC:\\Python311\\Lib\\site-packages\\tensorflow\\python\\eager\\polymorphic_function\\atomic_function.py:252\u001b[0m, in \u001b[0;36mAtomicFunction.__call__\u001b[1;34m(self, *args)\u001b[0m\n\u001b[0;32m    250\u001b[0m \u001b[38;5;28;01mwith\u001b[39;00m record\u001b[38;5;241m.\u001b[39mstop_recording():\n\u001b[0;32m    251\u001b[0m   \u001b[38;5;28;01mif\u001b[39;00m \u001b[38;5;28mself\u001b[39m\u001b[38;5;241m.\u001b[39m_bound_context\u001b[38;5;241m.\u001b[39mexecuting_eagerly():\n\u001b[1;32m--> 252\u001b[0m     outputs \u001b[38;5;241m=\u001b[39m \u001b[38;5;28;43mself\u001b[39;49m\u001b[38;5;241;43m.\u001b[39;49m\u001b[43m_bound_context\u001b[49m\u001b[38;5;241;43m.\u001b[39;49m\u001b[43mcall_function\u001b[49m\u001b[43m(\u001b[49m\n\u001b[0;32m    253\u001b[0m \u001b[43m        \u001b[49m\u001b[38;5;28;43mself\u001b[39;49m\u001b[38;5;241;43m.\u001b[39;49m\u001b[43mname\u001b[49m\u001b[43m,\u001b[49m\n\u001b[0;32m    254\u001b[0m \u001b[43m        \u001b[49m\u001b[38;5;28;43mlist\u001b[39;49m\u001b[43m(\u001b[49m\u001b[43margs\u001b[49m\u001b[43m)\u001b[49m\u001b[43m,\u001b[49m\n\u001b[0;32m    255\u001b[0m \u001b[43m        \u001b[49m\u001b[38;5;28;43mlen\u001b[39;49m\u001b[43m(\u001b[49m\u001b[38;5;28;43mself\u001b[39;49m\u001b[38;5;241;43m.\u001b[39;49m\u001b[43mfunction_type\u001b[49m\u001b[38;5;241;43m.\u001b[39;49m\u001b[43mflat_outputs\u001b[49m\u001b[43m)\u001b[49m\u001b[43m,\u001b[49m\n\u001b[0;32m    256\u001b[0m \u001b[43m    \u001b[49m\u001b[43m)\u001b[49m\n\u001b[0;32m    257\u001b[0m   \u001b[38;5;28;01melse\u001b[39;00m:\n\u001b[0;32m    258\u001b[0m     outputs \u001b[38;5;241m=\u001b[39m make_call_op_in_graph(\n\u001b[0;32m    259\u001b[0m         \u001b[38;5;28mself\u001b[39m,\n\u001b[0;32m    260\u001b[0m         \u001b[38;5;28mlist\u001b[39m(args),\n\u001b[0;32m    261\u001b[0m         \u001b[38;5;28mself\u001b[39m\u001b[38;5;241m.\u001b[39m_bound_context\u001b[38;5;241m.\u001b[39mfunction_call_options\u001b[38;5;241m.\u001b[39mas_attrs(),\n\u001b[0;32m    262\u001b[0m     )\n",
      "File \u001b[1;32mC:\\Python311\\Lib\\site-packages\\tensorflow\\python\\eager\\context.py:1479\u001b[0m, in \u001b[0;36mContext.call_function\u001b[1;34m(self, name, tensor_inputs, num_outputs)\u001b[0m\n\u001b[0;32m   1477\u001b[0m cancellation_context \u001b[38;5;241m=\u001b[39m cancellation\u001b[38;5;241m.\u001b[39mcontext()\n\u001b[0;32m   1478\u001b[0m \u001b[38;5;28;01mif\u001b[39;00m cancellation_context \u001b[38;5;129;01mis\u001b[39;00m \u001b[38;5;28;01mNone\u001b[39;00m:\n\u001b[1;32m-> 1479\u001b[0m   outputs \u001b[38;5;241m=\u001b[39m \u001b[43mexecute\u001b[49m\u001b[38;5;241;43m.\u001b[39;49m\u001b[43mexecute\u001b[49m\u001b[43m(\u001b[49m\n\u001b[0;32m   1480\u001b[0m \u001b[43m      \u001b[49m\u001b[43mname\u001b[49m\u001b[38;5;241;43m.\u001b[39;49m\u001b[43mdecode\u001b[49m\u001b[43m(\u001b[49m\u001b[38;5;124;43m\"\u001b[39;49m\u001b[38;5;124;43mutf-8\u001b[39;49m\u001b[38;5;124;43m\"\u001b[39;49m\u001b[43m)\u001b[49m\u001b[43m,\u001b[49m\n\u001b[0;32m   1481\u001b[0m \u001b[43m      \u001b[49m\u001b[43mnum_outputs\u001b[49m\u001b[38;5;241;43m=\u001b[39;49m\u001b[43mnum_outputs\u001b[49m\u001b[43m,\u001b[49m\n\u001b[0;32m   1482\u001b[0m \u001b[43m      \u001b[49m\u001b[43minputs\u001b[49m\u001b[38;5;241;43m=\u001b[39;49m\u001b[43mtensor_inputs\u001b[49m\u001b[43m,\u001b[49m\n\u001b[0;32m   1483\u001b[0m \u001b[43m      \u001b[49m\u001b[43mattrs\u001b[49m\u001b[38;5;241;43m=\u001b[39;49m\u001b[43mattrs\u001b[49m\u001b[43m,\u001b[49m\n\u001b[0;32m   1484\u001b[0m \u001b[43m      \u001b[49m\u001b[43mctx\u001b[49m\u001b[38;5;241;43m=\u001b[39;49m\u001b[38;5;28;43mself\u001b[39;49m\u001b[43m,\u001b[49m\n\u001b[0;32m   1485\u001b[0m \u001b[43m  \u001b[49m\u001b[43m)\u001b[49m\n\u001b[0;32m   1486\u001b[0m \u001b[38;5;28;01melse\u001b[39;00m:\n\u001b[0;32m   1487\u001b[0m   outputs \u001b[38;5;241m=\u001b[39m execute\u001b[38;5;241m.\u001b[39mexecute_with_cancellation(\n\u001b[0;32m   1488\u001b[0m       name\u001b[38;5;241m.\u001b[39mdecode(\u001b[38;5;124m\"\u001b[39m\u001b[38;5;124mutf-8\u001b[39m\u001b[38;5;124m\"\u001b[39m),\n\u001b[0;32m   1489\u001b[0m       num_outputs\u001b[38;5;241m=\u001b[39mnum_outputs,\n\u001b[1;32m   (...)\u001b[0m\n\u001b[0;32m   1493\u001b[0m       cancellation_manager\u001b[38;5;241m=\u001b[39mcancellation_context,\n\u001b[0;32m   1494\u001b[0m   )\n",
      "File \u001b[1;32mC:\\Python311\\Lib\\site-packages\\tensorflow\\python\\eager\\execute.py:60\u001b[0m, in \u001b[0;36mquick_execute\u001b[1;34m(op_name, num_outputs, inputs, attrs, ctx, name)\u001b[0m\n\u001b[0;32m     53\u001b[0m   \u001b[38;5;66;03m# Convert any objects of type core_types.Tensor to Tensor.\u001b[39;00m\n\u001b[0;32m     54\u001b[0m   inputs \u001b[38;5;241m=\u001b[39m [\n\u001b[0;32m     55\u001b[0m       tensor_conversion_registry\u001b[38;5;241m.\u001b[39mconvert(t)\n\u001b[0;32m     56\u001b[0m       \u001b[38;5;28;01mif\u001b[39;00m \u001b[38;5;28misinstance\u001b[39m(t, core_types\u001b[38;5;241m.\u001b[39mTensor)\n\u001b[0;32m     57\u001b[0m       \u001b[38;5;28;01melse\u001b[39;00m t\n\u001b[0;32m     58\u001b[0m       \u001b[38;5;28;01mfor\u001b[39;00m t \u001b[38;5;129;01min\u001b[39;00m inputs\n\u001b[0;32m     59\u001b[0m   ]\n\u001b[1;32m---> 60\u001b[0m   tensors \u001b[38;5;241m=\u001b[39m \u001b[43mpywrap_tfe\u001b[49m\u001b[38;5;241;43m.\u001b[39;49m\u001b[43mTFE_Py_Execute\u001b[49m\u001b[43m(\u001b[49m\u001b[43mctx\u001b[49m\u001b[38;5;241;43m.\u001b[39;49m\u001b[43m_handle\u001b[49m\u001b[43m,\u001b[49m\u001b[43m \u001b[49m\u001b[43mdevice_name\u001b[49m\u001b[43m,\u001b[49m\u001b[43m \u001b[49m\u001b[43mop_name\u001b[49m\u001b[43m,\u001b[49m\n\u001b[0;32m     61\u001b[0m \u001b[43m                                      \u001b[49m\u001b[43minputs\u001b[49m\u001b[43m,\u001b[49m\u001b[43m \u001b[49m\u001b[43mattrs\u001b[49m\u001b[43m,\u001b[49m\u001b[43m \u001b[49m\u001b[43mnum_outputs\u001b[49m\u001b[43m)\u001b[49m\n\u001b[0;32m     62\u001b[0m \u001b[38;5;28;01mexcept\u001b[39;00m core\u001b[38;5;241m.\u001b[39m_NotOkStatusException \u001b[38;5;28;01mas\u001b[39;00m e:\n\u001b[0;32m     63\u001b[0m   \u001b[38;5;28;01mif\u001b[39;00m name \u001b[38;5;129;01mis\u001b[39;00m \u001b[38;5;129;01mnot\u001b[39;00m \u001b[38;5;28;01mNone\u001b[39;00m:\n",
      "\u001b[1;31mKeyboardInterrupt\u001b[0m: "
     ]
    }
   ],
   "source": [
    "model.fit(traindev_data, traindev_tags, epochs=10, batch_size=32)\n",
    "\n",
    "\n",
    "_, accuracy = model.evaluate(test_data, test_tags)\n",
    "print(f'Accuracy: {accuracy * 100:.2f}%')"
   ]
  },
  {
   "cell_type": "code",
   "execution_count": 15,
   "id": "d484cee6-f735-430c-b68a-990dd440cd0b",
   "metadata": {},
   "outputs": [
    {
     "name": "stdout",
     "output_type": "stream",
     "text": [
      "94/94 [==============================] - 16s 160ms/step\n"
     ]
    },
    {
     "name": "stderr",
     "output_type": "stream",
     "text": [
      "C:\\Python311\\Lib\\site-packages\\sklearn\\metrics\\_classification.py:1469: UndefinedMetricWarning: Precision and F-score are ill-defined and being set to 0.0 in labels with no predicted samples. Use `zero_division` parameter to control this behavior.\n",
      "  _warn_prf(average, modifier, msg_start, len(result))\n"
     ]
    },
    {
     "name": "stdout",
     "output_type": "stream",
     "text": [
      "                       precision    recall  f1-score   support\n",
      "\n",
      "                    O       0.99      1.00      0.99    569419\n",
      "                B-AGE       0.71      0.66      0.68       582\n",
      "               B-DATE       0.88      0.87      0.88      1654\n",
      "             B-GENDER       0.75      0.70      0.72       462\n",
      "                B-JOB       0.70      0.47      0.56       173\n",
      "           B-LOCATION       0.76      0.74      0.75      4441\n",
      "               B-NAME       0.83      0.55      0.66       318\n",
      "       B-ORGANIZATION       0.81      0.81      0.81       771\n",
      "         B-PATIENT_ID       0.88      0.80      0.84      2005\n",
      "B-SYMPTOM_AND_DISEASE       0.83      0.77      0.80      1136\n",
      "     B-TRANSPORTATION       0.80      0.54      0.65       193\n",
      "                I-AGE       0.00      0.00      0.00         6\n",
      "               I-DATE       0.91      0.93      0.92      1752\n",
      "             I-GENDER       0.00      0.00      0.00         1\n",
      "                I-JOB       0.64      0.38      0.48       347\n",
      "           I-LOCATION       0.86      0.83      0.84     10729\n",
      "               I-NAME       0.83      0.48      0.61        84\n",
      "       I-ORGANIZATION       0.84      0.85      0.85      3672\n",
      "         I-PATIENT_ID       0.00      0.00      0.00        27\n",
      "I-SYMPTOM_AND_DISEASE       0.85      0.78      0.81      2156\n",
      "     I-TRANSPORTATION       0.85      0.39      0.53        72\n",
      "\n",
      "             accuracy                           0.99    600000\n",
      "            macro avg       0.70      0.60      0.64    600000\n",
      "         weighted avg       0.98      0.99      0.99    600000\n",
      "\n"
     ]
    },
    {
     "name": "stderr",
     "output_type": "stream",
     "text": [
      "C:\\Python311\\Lib\\site-packages\\sklearn\\metrics\\_classification.py:1469: UndefinedMetricWarning: Precision and F-score are ill-defined and being set to 0.0 in labels with no predicted samples. Use `zero_division` parameter to control this behavior.\n",
      "  _warn_prf(average, modifier, msg_start, len(result))\n",
      "C:\\Python311\\Lib\\site-packages\\sklearn\\metrics\\_classification.py:1469: UndefinedMetricWarning: Precision and F-score are ill-defined and being set to 0.0 in labels with no predicted samples. Use `zero_division` parameter to control this behavior.\n",
      "  _warn_prf(average, modifier, msg_start, len(result))\n"
     ]
    }
   ],
   "source": [
    "predictions = model.predict(test_data)\n",
    "pred_tags = np.argmax(predictions, axis=-1)\n",
    "# trainable true\n",
    "\n",
    "print(classification_report(test_tags.flatten(), pred_tags.flatten(), target_names=list(tag_to_index.keys())))"
   ]
  },
  {
   "cell_type": "code",
   "execution_count": 30,
   "id": "bb5476bc-c185-4dca-b341-87790042c641",
   "metadata": {},
   "outputs": [
    {
     "name": "stdout",
     "output_type": "stream",
     "text": [
      "94/94 [==============================] - 9s 95ms/step\n"
     ]
    },
    {
     "name": "stderr",
     "output_type": "stream",
     "text": [
      "C:\\Python311\\Lib\\site-packages\\sklearn\\metrics\\_classification.py:1469: UndefinedMetricWarning: Precision and F-score are ill-defined and being set to 0.0 in labels with no predicted samples. Use `zero_division` parameter to control this behavior.\n",
      "  _warn_prf(average, modifier, msg_start, len(result))\n",
      "C:\\Python311\\Lib\\site-packages\\sklearn\\metrics\\_classification.py:1469: UndefinedMetricWarning: Precision and F-score are ill-defined and being set to 0.0 in labels with no predicted samples. Use `zero_division` parameter to control this behavior.\n",
      "  _warn_prf(average, modifier, msg_start, len(result))\n"
     ]
    },
    {
     "name": "stdout",
     "output_type": "stream",
     "text": [
      "                       precision    recall  f1-score   support\n",
      "\n",
      "                    O       0.99      1.00      0.99    569419\n",
      "                B-AGE       0.68      0.70      0.69       582\n",
      "               B-DATE       0.89      0.87      0.88      1654\n",
      "             B-GENDER       0.70      0.73      0.72       462\n",
      "                B-JOB       0.61      0.49      0.54       173\n",
      "           B-LOCATION       0.76      0.71      0.73      4441\n",
      "               B-NAME       0.75      0.40      0.52       318\n",
      "       B-ORGANIZATION       0.84      0.77      0.80       771\n",
      "         B-PATIENT_ID       0.89      0.80      0.84      2005\n",
      "B-SYMPTOM_AND_DISEASE       0.87      0.68      0.77      1136\n",
      "     B-TRANSPORTATION       0.75      0.48      0.59       193\n",
      "                I-AGE       0.00      0.00      0.00         6\n",
      "               I-DATE       0.92      0.92      0.92      1752\n",
      "             I-GENDER       0.00      0.00      0.00         1\n",
      "                I-JOB       0.69      0.46      0.55       347\n",
      "           I-LOCATION       0.86      0.81      0.83     10729\n",
      "               I-NAME       0.53      0.35      0.42        84\n",
      "       I-ORGANIZATION       0.88      0.81      0.84      3672\n",
      "         I-PATIENT_ID       0.00      0.00      0.00        27\n",
      "I-SYMPTOM_AND_DISEASE       0.87      0.70      0.78      2156\n",
      "     I-TRANSPORTATION       0.89      0.35      0.50        72\n",
      "\n",
      "             accuracy                           0.98    600000\n",
      "            macro avg       0.68      0.57      0.62    600000\n",
      "         weighted avg       0.98      0.98      0.98    600000\n",
      "\n"
     ]
    },
    {
     "name": "stderr",
     "output_type": "stream",
     "text": [
      "C:\\Python311\\Lib\\site-packages\\sklearn\\metrics\\_classification.py:1469: UndefinedMetricWarning: Precision and F-score are ill-defined and being set to 0.0 in labels with no predicted samples. Use `zero_division` parameter to control this behavior.\n",
      "  _warn_prf(average, modifier, msg_start, len(result))\n"
     ]
    }
   ],
   "source": [
    "predictions = model.predict(test_data)\n",
    "pred_tags = np.argmax(predictions, axis=-1)\n",
    "# trainable false\n",
    "\n",
    "print(classification_report(test_tags.flatten(), pred_tags.flatten(), target_names=list(tag_to_index.keys())))"
   ]
  },
  {
   "cell_type": "code",
   "execution_count": 24,
   "id": "ffcb4cf2-01a4-4b0e-a196-23626108da72",
   "metadata": {},
   "outputs": [
    {
     "name": "stdout",
     "output_type": "stream",
     "text": [
      "220/220 [==============================] - 38s 172ms/step\n"
     ]
    },
    {
     "name": "stderr",
     "output_type": "stream",
     "text": [
      "C:\\Python311\\Lib\\site-packages\\sklearn\\metrics\\_classification.py:1469: UndefinedMetricWarning: Precision and F-score are ill-defined and being set to 0.0 in labels with no predicted samples. Use `zero_division` parameter to control this behavior.\n",
      "  _warn_prf(average, modifier, msg_start, len(result))\n",
      "C:\\Python311\\Lib\\site-packages\\sklearn\\metrics\\_classification.py:1469: UndefinedMetricWarning: Precision and F-score are ill-defined and being set to 0.0 in labels with no predicted samples. Use `zero_division` parameter to control this behavior.\n",
      "  _warn_prf(average, modifier, msg_start, len(result))\n"
     ]
    },
    {
     "name": "stdout",
     "output_type": "stream",
     "text": [
      "                       precision    recall  f1-score   support\n",
      "\n",
      "                    O       1.00      1.00      1.00   1347627\n",
      "                B-AGE       0.99      0.95      0.97      1043\n",
      "               B-DATE       0.99      1.00      0.99      3652\n",
      "             B-GENDER       0.99      0.90      0.94       819\n",
      "                B-JOB       0.97      0.89      0.93       337\n",
      "           B-LOCATION       0.99      0.99      0.99      8135\n",
      "               B-NAME       0.98      0.97      0.98       537\n",
      "       B-ORGANIZATION       0.97      0.98      0.97      1688\n",
      "         B-PATIENT_ID       0.99      1.00      0.99      4516\n",
      "B-SYMPTOM_AND_DISEASE       0.98      0.98      0.98      2205\n",
      "     B-TRANSPORTATION       1.00      0.99      0.99       313\n",
      "                I-AGE       0.00      0.00      0.00         2\n",
      "               I-DATE       0.99      1.00      1.00      3618\n",
      "             I-GENDER       0.00      0.00      0.00        16\n",
      "                I-JOB       0.96      0.92      0.94       527\n",
      "           I-LOCATION       0.99      0.99      0.99     18935\n",
      "               I-NAME       0.95      0.95      0.95       132\n",
      "       I-ORGANIZATION       0.97      0.99      0.98      7448\n",
      "         I-PATIENT_ID       1.00      0.14      0.24        22\n",
      "I-SYMPTOM_AND_DISEASE       0.97      0.99      0.98      3734\n",
      "     I-TRANSPORTATION       1.00      0.99      0.99        94\n",
      "\n",
      "             accuracy                           1.00   1405400\n",
      "            macro avg       0.89      0.84      0.85   1405400\n",
      "         weighted avg       1.00      1.00      1.00   1405400\n",
      "\n"
     ]
    },
    {
     "name": "stderr",
     "output_type": "stream",
     "text": [
      "C:\\Python311\\Lib\\site-packages\\sklearn\\metrics\\_classification.py:1469: UndefinedMetricWarning: Precision and F-score are ill-defined and being set to 0.0 in labels with no predicted samples. Use `zero_division` parameter to control this behavior.\n",
      "  _warn_prf(average, modifier, msg_start, len(result))\n"
     ]
    }
   ],
   "source": [
    "predictions = model.predict(traindev_data)\n",
    "pred_tags = np.argmax(predictions, axis=-1)\n",
    "# trainable true\n",
    "\n",
    "print(classification_report(traindev_tags.flatten(), pred_tags.flatten(), target_names=list(tag_to_index.keys())))"
   ]
  },
  {
   "cell_type": "code",
   "execution_count": 31,
   "id": "b2b904bb-7532-4dcf-927e-66b7bc9de09d",
   "metadata": {},
   "outputs": [
    {
     "name": "stdout",
     "output_type": "stream",
     "text": [
      "220/220 [==============================] - 21s 97ms/step\n"
     ]
    },
    {
     "name": "stderr",
     "output_type": "stream",
     "text": [
      "C:\\Python311\\Lib\\site-packages\\sklearn\\metrics\\_classification.py:1469: UndefinedMetricWarning: Precision and F-score are ill-defined and being set to 0.0 in labels with no predicted samples. Use `zero_division` parameter to control this behavior.\n",
      "  _warn_prf(average, modifier, msg_start, len(result))\n",
      "C:\\Python311\\Lib\\site-packages\\sklearn\\metrics\\_classification.py:1469: UndefinedMetricWarning: Precision and F-score are ill-defined and being set to 0.0 in labels with no predicted samples. Use `zero_division` parameter to control this behavior.\n",
      "  _warn_prf(average, modifier, msg_start, len(result))\n"
     ]
    },
    {
     "name": "stdout",
     "output_type": "stream",
     "text": [
      "                       precision    recall  f1-score   support\n",
      "\n",
      "                    O       1.00      1.00      1.00   1347627\n",
      "                B-AGE       0.92      0.97      0.95      1043\n",
      "               B-DATE       0.99      0.99      0.99      3652\n",
      "             B-GENDER       0.89      0.95      0.92       819\n",
      "                B-JOB       0.86      0.82      0.84       337\n",
      "           B-LOCATION       0.97      0.93      0.95      8135\n",
      "               B-NAME       0.86      0.73      0.79       537\n",
      "       B-ORGANIZATION       0.94      0.92      0.93      1688\n",
      "         B-PATIENT_ID       0.98      0.99      0.99      4516\n",
      "B-SYMPTOM_AND_DISEASE       0.95      0.86      0.90      2205\n",
      "     B-TRANSPORTATION       0.95      0.89      0.92       313\n",
      "                I-AGE       0.00      0.00      0.00         2\n",
      "               I-DATE       0.99      0.99      0.99      3618\n",
      "             I-GENDER       1.00      0.19      0.32        16\n",
      "                I-JOB       0.85      0.79      0.82       527\n",
      "           I-LOCATION       0.97      0.96      0.97     18935\n",
      "               I-NAME       0.83      0.66      0.73       132\n",
      "       I-ORGANIZATION       0.95      0.94      0.95      7448\n",
      "         I-PATIENT_ID       0.00      0.00      0.00        22\n",
      "I-SYMPTOM_AND_DISEASE       0.94      0.88      0.91      3734\n",
      "     I-TRANSPORTATION       0.99      0.79      0.88        94\n",
      "\n",
      "             accuracy                           1.00   1405400\n",
      "            macro avg       0.85      0.77      0.80   1405400\n",
      "         weighted avg       1.00      1.00      1.00   1405400\n",
      "\n"
     ]
    },
    {
     "name": "stderr",
     "output_type": "stream",
     "text": [
      "C:\\Python311\\Lib\\site-packages\\sklearn\\metrics\\_classification.py:1469: UndefinedMetricWarning: Precision and F-score are ill-defined and being set to 0.0 in labels with no predicted samples. Use `zero_division` parameter to control this behavior.\n",
      "  _warn_prf(average, modifier, msg_start, len(result))\n"
     ]
    }
   ],
   "source": [
    "predictions = model.predict(traindev_data)\n",
    "pred_tags = np.argmax(predictions, axis=-1)\n",
    "# trainable false\n",
    "\n",
    "print(classification_report(traindev_tags.flatten(), pred_tags.flatten(), target_names=list(tag_to_index.keys())))"
   ]
  },
  {
   "cell_type": "code",
   "execution_count": 16,
   "id": "7cfb83a5-5669-4ce6-9cb9-0690d3787f7e",
   "metadata": {},
   "outputs": [
    {
     "name": "stdout",
     "output_type": "stream",
     "text": [
      "94/94 [==============================] - 14s 151ms/step\n"
     ]
    },
    {
     "name": "stderr",
     "output_type": "stream",
     "text": [
      "C:\\Python311\\Lib\\site-packages\\sklearn\\metrics\\_classification.py:1469: UndefinedMetricWarning: Precision and F-score are ill-defined and being set to 0.0 in labels with no predicted samples. Use `zero_division` parameter to control this behavior.\n",
      "  _warn_prf(average, modifier, msg_start, len(result))\n",
      "C:\\Python311\\Lib\\site-packages\\sklearn\\metrics\\_classification.py:1469: UndefinedMetricWarning: Precision and F-score are ill-defined and being set to 0.0 in labels with no predicted samples. Use `zero_division` parameter to control this behavior.\n",
      "  _warn_prf(average, modifier, msg_start, len(result))\n"
     ]
    },
    {
     "name": "stdout",
     "output_type": "stream",
     "text": [
      "                       precision    recall  f1-score   support\n",
      "\n",
      "                    O       0.99      1.00      0.99    569419\n",
      "                B-AGE       0.71      0.66      0.68       582\n",
      "               B-DATE       0.88      0.87      0.88      1654\n",
      "             B-GENDER       0.75      0.70      0.72       462\n",
      "                B-JOB       0.57      0.45      0.50       173\n",
      "           B-LOCATION       0.74      0.74      0.74      4441\n",
      "               B-NAME       0.83      0.55      0.66       318\n",
      "       B-ORGANIZATION       0.72      0.81      0.77       771\n",
      "         B-PATIENT_ID       0.88      0.80      0.84      2005\n",
      "B-SYMPTOM_AND_DISEASE       0.78      0.78      0.78      1136\n",
      "     B-TRANSPORTATION       0.81      0.54      0.65       193\n",
      "                I-AGE       1.00      0.17      0.29         6\n",
      "               I-DATE       0.91      0.93      0.92      1752\n",
      "             I-GENDER       0.00      0.00      0.00         1\n",
      "                I-JOB       0.67      0.35      0.46       347\n",
      "           I-LOCATION       0.87      0.80      0.83     10729\n",
      "               I-NAME       0.81      0.45      0.58        84\n",
      "       I-ORGANIZATION       0.86      0.84      0.85      3672\n",
      "         I-PATIENT_ID       1.00      0.07      0.14        27\n",
      "I-SYMPTOM_AND_DISEASE       0.87      0.76      0.81      2156\n",
      "     I-TRANSPORTATION       0.85      0.40      0.55        72\n",
      "\n",
      "             accuracy                           0.98    600000\n",
      "            macro avg       0.79      0.60      0.65    600000\n",
      "         weighted avg       0.98      0.98      0.98    600000\n",
      "\n"
     ]
    },
    {
     "name": "stderr",
     "output_type": "stream",
     "text": [
      "C:\\Python311\\Lib\\site-packages\\sklearn\\metrics\\_classification.py:1469: UndefinedMetricWarning: Precision and F-score are ill-defined and being set to 0.0 in labels with no predicted samples. Use `zero_division` parameter to control this behavior.\n",
      "  _warn_prf(average, modifier, msg_start, len(result))\n"
     ]
    }
   ],
   "source": [
    "predictions = model.predict(test_data)\n",
    "pred_tags = np.argmax(predictions, axis=-1)\n",
    "post_processing(pred_tags, test_data)\n",
    "# trainable true\n",
    "\n",
    "print(classification_report(test_tags.flatten(), pred_tags.flatten(), target_names=list(tag_to_index.keys())))"
   ]
  },
  {
   "cell_type": "code",
   "execution_count": 25,
   "id": "b5eac697-0298-4a4f-bf5c-b1e1f5fb5c49",
   "metadata": {},
   "outputs": [
    {
     "name": "stdout",
     "output_type": "stream",
     "text": [
      "94/94 [==============================] - 15s 147ms/step\n",
      "                       precision    recall  f1-score   support\n",
      "\n",
      "                    O       0.99      1.00      0.99    569419\n",
      "                B-AGE       0.69      0.69      0.69       582\n",
      "               B-DATE       0.88      0.87      0.88      1654\n",
      "             B-GENDER       0.72      0.71      0.71       462\n",
      "                B-JOB       0.44      0.42      0.43       173\n",
      "           B-LOCATION       0.72      0.74      0.73      4441\n",
      "               B-NAME       0.80      0.52      0.63       318\n",
      "       B-ORGANIZATION       0.65      0.79      0.71       771\n",
      "         B-PATIENT_ID       0.89      0.80      0.84      2005\n",
      "B-SYMPTOM_AND_DISEASE       0.77      0.78      0.77      1136\n",
      "     B-TRANSPORTATION       0.80      0.54      0.65       193\n",
      "                I-AGE       0.67      0.33      0.44         6\n",
      "               I-DATE       0.91      0.93      0.92      1752\n",
      "             I-GENDER       0.00      0.00      0.00         1\n",
      "                I-JOB       0.70      0.36      0.48       347\n",
      "           I-LOCATION       0.86      0.80      0.83     10729\n",
      "               I-NAME       0.88      0.43      0.58        84\n",
      "       I-ORGANIZATION       0.86      0.82      0.84      3672\n",
      "         I-PATIENT_ID       0.33      0.04      0.07        27\n",
      "I-SYMPTOM_AND_DISEASE       0.88      0.74      0.81      2156\n",
      "     I-TRANSPORTATION       0.88      0.40      0.55        72\n",
      "\n",
      "             accuracy                           0.98    600000\n",
      "            macro avg       0.73      0.60      0.65    600000\n",
      "         weighted avg       0.98      0.98      0.98    600000\n",
      "\n"
     ]
    }
   ],
   "source": [
    "predictions = model.predict(test_data)\n",
    "pred_tags = np.argmax(predictions, axis=-1)\n",
    "post_processing(pred_tags, test_data)\n",
    "# trainable true non BIO\n",
    "\n",
    "print(classification_report(test_tags.flatten(), pred_tags.flatten(), target_names=list(tag_to_index.keys())))"
   ]
  },
  {
   "cell_type": "code",
   "execution_count": null,
   "id": "9d9dc016-2f74-43a5-ac4b-1ff782c3d4a6",
   "metadata": {},
   "outputs": [
    {
     "name": "stdout",
     "output_type": "stream",
     "text": [
      "94/94 [==============================] - 9s 97ms/step\n"
     ]
    }
   ],
   "source": [
    "predictions = model.predict(test_data)\n",
    "pred_tags = np.argmax(predictions, axis=-1)\n",
    "post_processing(pred_tags, test_data)\n",
    "# trainable false\n",
    "\n",
    "print(classification_report(test_tags.flatten(), pred_tags.flatten(), target_names=list(tag_to_index.keys())))"
   ]
  },
  {
   "cell_type": "code",
   "execution_count": 15,
   "id": "8e5fee71-bb0f-40d6-9cd2-b845e645b557",
   "metadata": {},
   "outputs": [
    {
     "name": "stdout",
     "output_type": "stream",
     "text": [
      "94/94 [==============================] - 4s 38ms/step\n",
      "                       precision    recall  f1-score   support\n",
      "\n",
      "                    O       0.98      0.99      0.99    271361\n",
      "                B-AGE       0.62      0.66      0.64       516\n",
      "               B-DATE       0.87      0.88      0.87      1593\n",
      "             B-GENDER       0.67      0.72      0.69       392\n",
      "                B-JOB       0.58      0.45      0.50       170\n",
      "           B-LOCATION       0.73      0.66      0.69      4293\n",
      "               B-NAME       0.84      0.64      0.73       252\n",
      "       B-ORGANIZATION       0.83      0.74      0.78       768\n",
      "         B-PATIENT_ID       0.86      0.86      0.86      1676\n",
      "B-SYMPTOM_AND_DISEASE       0.81      0.72      0.76      1112\n",
      "     B-TRANSPORTATION       0.79      0.59      0.67       158\n",
      "                I-AGE       0.00      0.00      0.00         6\n",
      "               I-DATE       0.90      0.92      0.91      1685\n",
      "             I-GENDER       0.00      0.00      0.00         1\n",
      "                I-JOB       0.53      0.39      0.45       337\n",
      "           I-LOCATION       0.84      0.81      0.82      9880\n",
      "               I-NAME       0.84      0.43      0.57        74\n",
      "       I-ORGANIZATION       0.87      0.81      0.84      3586\n",
      "         I-PATIENT_ID       0.00      0.00      0.00        20\n",
      "I-SYMPTOM_AND_DISEASE       0.85      0.73      0.78      2056\n",
      "     I-TRANSPORTATION       0.96      0.42      0.59        64\n",
      "\n",
      "             accuracy                           0.97    300000\n",
      "            macro avg       0.68      0.59      0.63    300000\n",
      "         weighted avg       0.97      0.97      0.97    300000\n",
      "\n"
     ]
    },
    {
     "name": "stderr",
     "output_type": "stream",
     "text": [
      "C:\\Python311\\Lib\\site-packages\\sklearn\\metrics\\_classification.py:1469: UndefinedMetricWarning: Precision and F-score are ill-defined and being set to 0.0 in labels with no predicted samples. Use `zero_division` parameter to control this behavior.\n",
      "  _warn_prf(average, modifier, msg_start, len(result))\n",
      "C:\\Python311\\Lib\\site-packages\\sklearn\\metrics\\_classification.py:1469: UndefinedMetricWarning: Precision and F-score are ill-defined and being set to 0.0 in labels with no predicted samples. Use `zero_division` parameter to control this behavior.\n",
      "  _warn_prf(average, modifier, msg_start, len(result))\n",
      "C:\\Python311\\Lib\\site-packages\\sklearn\\metrics\\_classification.py:1469: UndefinedMetricWarning: Precision and F-score are ill-defined and being set to 0.0 in labels with no predicted samples. Use `zero_division` parameter to control this behavior.\n",
      "  _warn_prf(average, modifier, msg_start, len(result))\n"
     ]
    }
   ],
   "source": [
    "predictions = model.predict(test_data)\n",
    "pred_tags = np.argmax(predictions, axis=-1)\n",
    "\n",
    "print(classification_report(test_tags.flatten(), pred_tags.flatten(), target_names=list(tag_to_index.keys())))"
   ]
  },
  {
   "cell_type": "code",
   "execution_count": 14,
   "id": "be930093-926d-4cb4-948a-3b70ed52b568",
   "metadata": {},
   "outputs": [
    {
     "name": "stdout",
     "output_type": "stream",
     "text": [
      "94/94 [==============================] - 3s 21ms/step\n"
     ]
    },
    {
     "name": "stderr",
     "output_type": "stream",
     "text": [
      "C:\\Python311\\Lib\\site-packages\\sklearn\\metrics\\_classification.py:1469: UndefinedMetricWarning: Precision and F-score are ill-defined and being set to 0.0 in labels with no predicted samples. Use `zero_division` parameter to control this behavior.\n",
      "  _warn_prf(average, modifier, msg_start, len(result))\n",
      "C:\\Python311\\Lib\\site-packages\\sklearn\\metrics\\_classification.py:1469: UndefinedMetricWarning: Precision and F-score are ill-defined and being set to 0.0 in labels with no predicted samples. Use `zero_division` parameter to control this behavior.\n",
      "  _warn_prf(average, modifier, msg_start, len(result))\n"
     ]
    },
    {
     "name": "stdout",
     "output_type": "stream",
     "text": [
      "                       precision    recall  f1-score   support\n",
      "\n",
      "                    O       0.99      0.99      0.99    421675\n",
      "                B-AGE       0.73      0.67      0.70       517\n",
      "               B-DATE       0.87      0.89      0.88      1577\n",
      "             B-GENDER       0.79      0.70      0.75       396\n",
      "                B-JOB       0.71      0.37      0.49       171\n",
      "           B-LOCATION       0.71      0.71      0.71      4260\n",
      "               B-NAME       0.79      0.62      0.69       252\n",
      "       B-ORGANIZATION       0.85      0.74      0.79       768\n",
      "         B-PATIENT_ID       0.88      0.88      0.88      1657\n",
      "B-SYMPTOM_AND_DISEASE       0.80      0.77      0.78      1109\n",
      "     B-TRANSPORTATION       0.75      0.60      0.67       157\n",
      "                I-AGE       0.00      0.00      0.00         6\n",
      "               I-DATE       0.90      0.95      0.92      1665\n",
      "             I-GENDER       0.00      0.00      0.00         1\n",
      "                I-JOB       0.68      0.37      0.47       334\n",
      "           I-LOCATION       0.82      0.87      0.85      9702\n",
      "               I-NAME       0.83      0.41      0.55        71\n",
      "       I-ORGANIZATION       0.89      0.81      0.84      3586\n",
      "         I-PATIENT_ID       0.00      0.00      0.00        20\n",
      "I-SYMPTOM_AND_DISEASE       0.81      0.81      0.81      2021\n",
      "     I-TRANSPORTATION       0.96      0.49      0.65        55\n",
      "\n",
      "             accuracy                           0.98    450000\n",
      "            macro avg       0.70      0.60      0.64    450000\n",
      "         weighted avg       0.98      0.98      0.98    450000\n",
      "\n"
     ]
    },
    {
     "name": "stderr",
     "output_type": "stream",
     "text": [
      "C:\\Python311\\Lib\\site-packages\\sklearn\\metrics\\_classification.py:1469: UndefinedMetricWarning: Precision and F-score are ill-defined and being set to 0.0 in labels with no predicted samples. Use `zero_division` parameter to control this behavior.\n",
      "  _warn_prf(average, modifier, msg_start, len(result))\n"
     ]
    }
   ],
   "source": [
    "predictions = model.predict(test_data)\n",
    "pred_tags = np.argmax(predictions, axis=-1)\n",
    "\n",
    "print(classification_report(test_tags.flatten(), pred_tags.flatten(), target_names=list(tag_to_index.keys())))"
   ]
  },
  {
   "cell_type": "code",
   "execution_count": null,
   "id": "74b9fd61-5aaa-4563-98f6-cf8d61730be9",
   "metadata": {},
   "outputs": [],
   "source": [
    "# JOB luôn là tag perform tệ nhất ở các lần thử, các model khác nhau, do ít dữ liệu train?"
   ]
  },
  {
   "cell_type": "code",
   "execution_count": 26,
   "id": "cb64442c-5ca8-4aee-8188-7df5c2c0e886",
   "metadata": {},
   "outputs": [
    {
     "name": "stdout",
     "output_type": "stream",
     "text": [
      "Label 0: 1347627\n",
      "Label 1: 1043\n",
      "Label 2: 3652\n",
      "Label 3: 819\n",
      "Label 4: 337\n",
      "Label 5: 8135\n",
      "Label 6: 537\n",
      "Label 7: 1688\n",
      "Label 8: 4516\n",
      "Label 9: 2205\n",
      "Label 10: 313\n",
      "Label 11: 2\n",
      "Label 12: 3618\n",
      "Label 13: 16\n",
      "Label 14: 527\n",
      "Label 15: 18935\n",
      "Label 16: 132\n",
      "Label 17: 7448\n",
      "Label 18: 22\n",
      "Label 19: 3734\n",
      "Label 20: 94\n",
      "Label 0: 569419\n",
      "Label 1: 582\n",
      "Label 2: 1654\n",
      "Label 3: 462\n",
      "Label 4: 173\n",
      "Label 5: 4441\n",
      "Label 6: 318\n",
      "Label 7: 771\n",
      "Label 8: 2005\n",
      "Label 9: 1136\n",
      "Label 10: 193\n",
      "Label 11: 6\n",
      "Label 12: 1752\n",
      "Label 13: 1\n",
      "Label 14: 347\n",
      "Label 15: 10729\n",
      "Label 16: 84\n",
      "Label 17: 3672\n",
      "Label 18: 27\n",
      "Label 19: 2156\n",
      "Label 20: 72\n"
     ]
    }
   ],
   "source": [
    "def find_dist(label):\n",
    "    label_counts = {}\n",
    "    \n",
    "    for seq in range(label.shape[0]):\n",
    "        for tag in range(label.shape[1]):\n",
    "            current_label = label[seq][tag]\n",
    "            \n",
    "            if current_label not in label_counts:\n",
    "                label_counts[current_label] = 1\n",
    "            else:\n",
    "                label_counts[current_label] += 1\n",
    "    sorted_label_counts = sorted(label_counts.items(), key=lambda x: x[0])\n",
    "    for label_type, count in sorted_label_counts:\n",
    "        print(f\"Label {label_type}: {count}\")\n",
    "\n",
    "\n",
    "find_dist(traindev_tags)\n",
    "find_dist(test_tags)\n"
   ]
  },
  {
   "cell_type": "code",
   "execution_count": null,
   "id": "9830536f-71e8-4ef8-9cda-d8156a5b6e9c",
   "metadata": {},
   "outputs": [],
   "source": []
  }
 ],
 "metadata": {
  "kernelspec": {
   "display_name": "Python 3 (ipykernel)",
   "language": "python",
   "name": "python3"
  },
  "language_info": {
   "codemirror_mode": {
    "name": "ipython",
    "version": 3
   },
   "file_extension": ".py",
   "mimetype": "text/x-python",
   "name": "python",
   "nbconvert_exporter": "python",
   "pygments_lexer": "ipython3",
   "version": "3.11.5"
  }
 },
 "nbformat": 4,
 "nbformat_minor": 5
}
